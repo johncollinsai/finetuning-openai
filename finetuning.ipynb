{
 "cells": [
  {
   "cell_type": "code",
   "execution_count": 2,
   "metadata": {},
   "outputs": [
    {
     "data": {
      "text/plain": [
       "'/home/john/finetuning-openai/10k_lines_AAPL.txt'"
      ]
     },
     "execution_count": 2,
     "metadata": {},
     "output_type": "execute_result"
    }
   ],
   "source": [
    "# File paths\n",
    "input_file_path = \"/home/john/finetuning-openai/df_data_AAPL.txt\"\n",
    "output_file_path = \"/home/john/finetuning-openai/10k_lines_AAPL.txt\"\n",
    "\n",
    "# Read the first 10,000 lines and write to the new file\n",
    "with open(input_file_path, 'r') as infile, open(output_file_path, 'w') as outfile:\n",
    "    for _ in range(10000):\n",
    "        line = infile.readline()\n",
    "        if not line:\n",
    "            break  # Break if there are fewer than 10,000 lines\n",
    "        outfile.write(line)\n",
    "\n",
    "output_file_path"
   ]
  },
  {
   "cell_type": "code",
   "execution_count": null,
   "metadata": {},
   "outputs": [],
   "source": []
  }
 ],
 "metadata": {
  "kernelspec": {
   "display_name": "lambda-stack-with-tensorflow-pytorch",
   "language": "python",
   "name": "python3"
  },
  "language_info": {
   "codemirror_mode": {
    "name": "ipython",
    "version": 3
   },
   "file_extension": ".py",
   "mimetype": "text/x-python",
   "name": "python",
   "nbconvert_exporter": "python",
   "pygments_lexer": "ipython3",
   "version": "3.10.12"
  },
  "orig_nbformat": 4
 },
 "nbformat": 4,
 "nbformat_minor": 2
}
